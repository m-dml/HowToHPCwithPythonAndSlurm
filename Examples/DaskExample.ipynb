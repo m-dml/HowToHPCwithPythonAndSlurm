{
 "cells": [
  {
   "cell_type": "code",
   "execution_count": 6,
   "id": "436c7c29-1ed1-4345-ac28-7c80988ab035",
   "metadata": {},
   "outputs": [],
   "source": [
    "from dask.distributed import Client\n",
    "from dask.diagnostics import ProgressBar\n",
    "import dask\n",
    "from dask_jobqueue import SLURMCluster\n",
    "\n",
    "import time\n",
    "import pandas as pd\n",
    "import numpy as np"
   ]
  },
  {
   "cell_type": "code",
   "execution_count": 2,
   "id": "31c8e969-c398-45e9-bd77-88e5684f45b0",
   "metadata": {},
   "outputs": [],
   "source": [
    "# set up the credentials and meta information of your Slurm environment.\n",
    "\n",
    "cluster = SLURMCluster(cores=45,  # the maximum number of cores per node you want to use / can use. \n",
    "                       header_skip=['--mem'],\n",
    "                       processes=1,      # The number of jobs you want to execute per node (leave this at 1 for now).\n",
    "                       interface=\"ib0\",  # make sure to set this if your cluster supports infiniband. Otherwise delete this line.\n",
    "                       memory=\"100 GB\",  # Maximum Memory per Node\n",
    "                       project=\"machnitz\",  # If you have a project that needs to be charged, this goes here (might be your username).\n",
    "                       walltime=\"02:00:00\",  # How long one task is expected to take. Try to keep as small as possible.\n",
    "                       local_directory=\"/gpfs/work/machnitz/dask_storage\",  # Important to set if you have a limited home directory / work directory.\n",
    "                       job_extra=['--partition=pAll',   # Here you can sepcify any extra key words you want to pass to you cluster.\n",
    "#                                   '--exclusive', \n",
    "                                 ])\n",
    "\n",
    "# Let dask decide at every point how many slurm jobs it wants to start, by deploying an\n",
    "# adjustable cluster:\n",
    "cluster.adapt(maximum_jobs=4) \n",
    "client = Client(cluster)"
   ]
  },
  {
   "cell_type": "code",
   "execution_count": 10,
   "id": "f688f040-b628-45b7-a0d2-9c74c7eb68d4",
   "metadata": {},
   "outputs": [
    {
     "data": {
      "text/html": [
       "<div>\n",
       "<style scoped>\n",
       "    .dataframe tbody tr th:only-of-type {\n",
       "        vertical-align: middle;\n",
       "    }\n",
       "\n",
       "    .dataframe tbody tr th {\n",
       "        vertical-align: top;\n",
       "    }\n",
       "\n",
       "    .dataframe thead th {\n",
       "        text-align: right;\n",
       "    }\n",
       "</style>\n",
       "<table border=\"1\" class=\"dataframe\">\n",
       "  <thead>\n",
       "    <tr style=\"text-align: right;\">\n",
       "      <th></th>\n",
       "      <th>param_a</th>\n",
       "      <th>param_b</th>\n",
       "      <th>param_c</th>\n",
       "      <th>param_d</th>\n",
       "    </tr>\n",
       "  </thead>\n",
       "  <tbody>\n",
       "    <tr>\n",
       "      <th>0</th>\n",
       "      <td>0.392774</td>\n",
       "      <td>0.734296</td>\n",
       "      <td>0.274932</td>\n",
       "      <td>0.770398</td>\n",
       "    </tr>\n",
       "    <tr>\n",
       "      <th>1</th>\n",
       "      <td>0.750989</td>\n",
       "      <td>0.633406</td>\n",
       "      <td>0.147591</td>\n",
       "      <td>0.083397</td>\n",
       "    </tr>\n",
       "    <tr>\n",
       "      <th>2</th>\n",
       "      <td>0.149600</td>\n",
       "      <td>0.436891</td>\n",
       "      <td>0.970219</td>\n",
       "      <td>0.418896</td>\n",
       "    </tr>\n",
       "    <tr>\n",
       "      <th>3</th>\n",
       "      <td>0.358504</td>\n",
       "      <td>0.117175</td>\n",
       "      <td>0.887545</td>\n",
       "      <td>0.681357</td>\n",
       "    </tr>\n",
       "    <tr>\n",
       "      <th>4</th>\n",
       "      <td>0.976891</td>\n",
       "      <td>0.784310</td>\n",
       "      <td>0.676401</td>\n",
       "      <td>0.609080</td>\n",
       "    </tr>\n",
       "  </tbody>\n",
       "</table>\n",
       "</div>"
      ],
      "text/plain": [
       "    param_a   param_b   param_c   param_d\n",
       "0  0.392774  0.734296  0.274932  0.770398\n",
       "1  0.750989  0.633406  0.147591  0.083397\n",
       "2  0.149600  0.436891  0.970219  0.418896\n",
       "3  0.358504  0.117175  0.887545  0.681357\n",
       "4  0.976891  0.784310  0.676401  0.609080"
      ]
     },
     "execution_count": 10,
     "metadata": {},
     "output_type": "execute_result"
    }
   ],
   "source": [
    "# lets define a toy problem:\n",
    "def costly_simulation(list_param):\n",
    "    time.sleep(np.random.random())\n",
    "    return sum(list_param)\n",
    "\n",
    "input_params = pd.DataFrame(np.random.random(size=(500, 4)),\n",
    "                            columns=['param_a', 'param_b', 'param_c', 'param_d'])\n",
    "\n",
    "input_params.head()"
   ]
  },
  {
   "cell_type": "code",
   "execution_count": 11,
   "id": "04179bf9-68e2-4056-a7fe-da8dc70cee10",
   "metadata": {},
   "outputs": [],
   "source": [
    "# use dask delayed api to calculate any costly function:\n",
    "lazy_results = []\n",
    "\n",
    "for parameters in input_params.values[:10]:\n",
    "    lazy_result = dask.delayed(costly_simulation)(parameters)\n",
    "    lazy_results.append(lazy_result)"
   ]
  },
  {
   "cell_type": "markdown",
   "id": "647c9463-36ef-43e7-96c0-46f47aae2582",
   "metadata": {},
   "source": [
    "See how the execution of the last cell did not take any time at all?\n",
    "\n",
    "This is due to the fact, that nothing has been computed yet. Dask Only created a \n",
    "list of things it needs to do. To actually run the computation you have to trigger the\n",
    "compute. Before you do this have a look at your slurm jobs (squeue -u YourUserName) and you will se that dask will \n",
    "create new jobs (maximum what we told it in maximum_jobs) to execute the given task. The execution can take a little\n",
    "while, espetially if no nodes are available:"
   ]
  },
  {
   "cell_type": "code",
   "execution_count": 12,
   "id": "11641da1-fd36-4b22-b26c-7805d86987ed",
   "metadata": {},
   "outputs": [
    {
     "data": {
      "text/plain": [
       "(2.172400481608721,\n",
       " 1.6153827148033815,\n",
       " 1.975606687342601,\n",
       " 2.0445803546523846,\n",
       " 3.046681081360251,\n",
       " 1.699245619327113,\n",
       " 1.571955574347839,\n",
       " 1.712072235073311,\n",
       " 1.7637077992949028,\n",
       " 1.7472026203913116)"
      ]
     },
     "execution_count": 12,
     "metadata": {},
     "output_type": "execute_result"
    }
   ],
   "source": [
    "dask.compute(*lazy_results)"
   ]
  },
  {
   "cell_type": "code",
   "execution_count": null,
   "id": "f8043397-843c-444d-810c-3109e4b538d6",
   "metadata": {},
   "outputs": [],
   "source": []
  }
 ],
 "metadata": {
  "kernelspec": {
   "display_name": "Plankton",
   "language": "python",
   "name": "plankton"
  },
  "language_info": {
   "codemirror_mode": {
    "name": "ipython",
    "version": 3
   },
   "file_extension": ".py",
   "mimetype": "text/x-python",
   "name": "python",
   "nbconvert_exporter": "python",
   "pygments_lexer": "ipython3",
   "version": "3.7.10"
  }
 },
 "nbformat": 4,
 "nbformat_minor": 5
}
