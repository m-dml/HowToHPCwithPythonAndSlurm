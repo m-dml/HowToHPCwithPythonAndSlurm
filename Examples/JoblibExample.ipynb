{
 "cells": [
  {
   "cell_type": "code",
   "execution_count": 2,
   "metadata": {
    "collapsed": true
   },
   "outputs": [],
   "source": [
    "import time\n",
    "\n",
    "import numpy as np\n",
    "import pandas as pd\n",
    "from joblib import Parallel, delayed\n",
    "from tqdm import tqdm"
   ]
  },
  {
   "cell_type": "code",
   "execution_count": 15,
   "outputs": [
    {
     "data": {
      "text/plain": "     param_a   param_b   param_c   param_d\n0   0.983522  0.938315  0.242548  0.373498\n1   0.103591  0.315438  0.666700  0.418915\n2   0.727865  0.038372  0.767575  0.073396\n3   0.564838  0.983012  0.247394  0.953011\n4   0.857140  0.988190  0.595069  0.074358\n5   0.982168  0.582689  0.345748  0.531498\n6   0.921376  0.707658  0.400578  0.771813\n7   0.856137  0.847027  0.965089  0.930372\n8   0.869067  0.068355  0.965709  0.473567\n9   0.724317  0.891009  0.548786  0.702796\n10  0.548765  0.920480  0.669279  0.807357\n11  0.373944  0.013510  0.460400  0.266345\n12  0.729548  0.514654  0.274651  0.062405\n13  0.297793  0.781710  0.981242  0.380246\n14  0.030300  0.184539  0.168994  0.538173\n15  0.119444  0.500797  0.170802  0.744848\n16  0.880155  0.291125  0.976193  0.790376\n17  0.844309  0.566141  0.249239  0.334556\n18  0.085405  0.209184  0.033486  0.686446\n19  0.131403  0.118919  0.090017  0.879466\n20  0.343019  0.734787  0.772508  0.017645\n21  0.874027  0.568380  0.509394  0.879528\n22  0.238319  0.567787  0.027597  0.064020\n23  0.378068  0.647579  0.668343  0.720845\n24  0.918797  0.872667  0.604114  0.504200\n25  0.075250  0.874698  0.028838  0.206217\n26  0.403302  0.387517  0.999420  0.238544\n27  0.795512  0.296685  0.568570  0.055555\n28  0.192543  0.091676  0.388829  0.792897\n29  0.764148  0.423505  0.707559  0.453836",
      "text/html": "<div>\n<style scoped>\n    .dataframe tbody tr th:only-of-type {\n        vertical-align: middle;\n    }\n\n    .dataframe tbody tr th {\n        vertical-align: top;\n    }\n\n    .dataframe thead th {\n        text-align: right;\n    }\n</style>\n<table border=\"1\" class=\"dataframe\">\n  <thead>\n    <tr style=\"text-align: right;\">\n      <th></th>\n      <th>param_a</th>\n      <th>param_b</th>\n      <th>param_c</th>\n      <th>param_d</th>\n    </tr>\n  </thead>\n  <tbody>\n    <tr>\n      <th>0</th>\n      <td>0.983522</td>\n      <td>0.938315</td>\n      <td>0.242548</td>\n      <td>0.373498</td>\n    </tr>\n    <tr>\n      <th>1</th>\n      <td>0.103591</td>\n      <td>0.315438</td>\n      <td>0.666700</td>\n      <td>0.418915</td>\n    </tr>\n    <tr>\n      <th>2</th>\n      <td>0.727865</td>\n      <td>0.038372</td>\n      <td>0.767575</td>\n      <td>0.073396</td>\n    </tr>\n    <tr>\n      <th>3</th>\n      <td>0.564838</td>\n      <td>0.983012</td>\n      <td>0.247394</td>\n      <td>0.953011</td>\n    </tr>\n    <tr>\n      <th>4</th>\n      <td>0.857140</td>\n      <td>0.988190</td>\n      <td>0.595069</td>\n      <td>0.074358</td>\n    </tr>\n    <tr>\n      <th>5</th>\n      <td>0.982168</td>\n      <td>0.582689</td>\n      <td>0.345748</td>\n      <td>0.531498</td>\n    </tr>\n    <tr>\n      <th>6</th>\n      <td>0.921376</td>\n      <td>0.707658</td>\n      <td>0.400578</td>\n      <td>0.771813</td>\n    </tr>\n    <tr>\n      <th>7</th>\n      <td>0.856137</td>\n      <td>0.847027</td>\n      <td>0.965089</td>\n      <td>0.930372</td>\n    </tr>\n    <tr>\n      <th>8</th>\n      <td>0.869067</td>\n      <td>0.068355</td>\n      <td>0.965709</td>\n      <td>0.473567</td>\n    </tr>\n    <tr>\n      <th>9</th>\n      <td>0.724317</td>\n      <td>0.891009</td>\n      <td>0.548786</td>\n      <td>0.702796</td>\n    </tr>\n    <tr>\n      <th>10</th>\n      <td>0.548765</td>\n      <td>0.920480</td>\n      <td>0.669279</td>\n      <td>0.807357</td>\n    </tr>\n    <tr>\n      <th>11</th>\n      <td>0.373944</td>\n      <td>0.013510</td>\n      <td>0.460400</td>\n      <td>0.266345</td>\n    </tr>\n    <tr>\n      <th>12</th>\n      <td>0.729548</td>\n      <td>0.514654</td>\n      <td>0.274651</td>\n      <td>0.062405</td>\n    </tr>\n    <tr>\n      <th>13</th>\n      <td>0.297793</td>\n      <td>0.781710</td>\n      <td>0.981242</td>\n      <td>0.380246</td>\n    </tr>\n    <tr>\n      <th>14</th>\n      <td>0.030300</td>\n      <td>0.184539</td>\n      <td>0.168994</td>\n      <td>0.538173</td>\n    </tr>\n    <tr>\n      <th>15</th>\n      <td>0.119444</td>\n      <td>0.500797</td>\n      <td>0.170802</td>\n      <td>0.744848</td>\n    </tr>\n    <tr>\n      <th>16</th>\n      <td>0.880155</td>\n      <td>0.291125</td>\n      <td>0.976193</td>\n      <td>0.790376</td>\n    </tr>\n    <tr>\n      <th>17</th>\n      <td>0.844309</td>\n      <td>0.566141</td>\n      <td>0.249239</td>\n      <td>0.334556</td>\n    </tr>\n    <tr>\n      <th>18</th>\n      <td>0.085405</td>\n      <td>0.209184</td>\n      <td>0.033486</td>\n      <td>0.686446</td>\n    </tr>\n    <tr>\n      <th>19</th>\n      <td>0.131403</td>\n      <td>0.118919</td>\n      <td>0.090017</td>\n      <td>0.879466</td>\n    </tr>\n    <tr>\n      <th>20</th>\n      <td>0.343019</td>\n      <td>0.734787</td>\n      <td>0.772508</td>\n      <td>0.017645</td>\n    </tr>\n    <tr>\n      <th>21</th>\n      <td>0.874027</td>\n      <td>0.568380</td>\n      <td>0.509394</td>\n      <td>0.879528</td>\n    </tr>\n    <tr>\n      <th>22</th>\n      <td>0.238319</td>\n      <td>0.567787</td>\n      <td>0.027597</td>\n      <td>0.064020</td>\n    </tr>\n    <tr>\n      <th>23</th>\n      <td>0.378068</td>\n      <td>0.647579</td>\n      <td>0.668343</td>\n      <td>0.720845</td>\n    </tr>\n    <tr>\n      <th>24</th>\n      <td>0.918797</td>\n      <td>0.872667</td>\n      <td>0.604114</td>\n      <td>0.504200</td>\n    </tr>\n    <tr>\n      <th>25</th>\n      <td>0.075250</td>\n      <td>0.874698</td>\n      <td>0.028838</td>\n      <td>0.206217</td>\n    </tr>\n    <tr>\n      <th>26</th>\n      <td>0.403302</td>\n      <td>0.387517</td>\n      <td>0.999420</td>\n      <td>0.238544</td>\n    </tr>\n    <tr>\n      <th>27</th>\n      <td>0.795512</td>\n      <td>0.296685</td>\n      <td>0.568570</td>\n      <td>0.055555</td>\n    </tr>\n    <tr>\n      <th>28</th>\n      <td>0.192543</td>\n      <td>0.091676</td>\n      <td>0.388829</td>\n      <td>0.792897</td>\n    </tr>\n    <tr>\n      <th>29</th>\n      <td>0.764148</td>\n      <td>0.423505</td>\n      <td>0.707559</td>\n      <td>0.453836</td>\n    </tr>\n  </tbody>\n</table>\n</div>"
     },
     "execution_count": 15,
     "metadata": {},
     "output_type": "execute_result"
    }
   ],
   "source": [
    "# lets define a toy problem:\n",
    "def costly_simulation(list_param):\n",
    "    time.sleep(np.random.random())\n",
    "    return sum(list_param)\n",
    "\n",
    "input_params = pd.DataFrame(np.random.random(size=(30, 4)),\n",
    "                            columns=['param_a', 'param_b', 'param_c', 'param_d'])\n",
    "\n",
    "input_params"
   ],
   "metadata": {
    "collapsed": false,
    "pycharm": {
     "name": "#%%\n"
    }
   }
  },
  {
   "cell_type": "code",
   "execution_count": 21,
   "outputs": [
    {
     "name": "stderr",
     "output_type": "stream",
     "text": [
      "30it [00:14,  2.02it/s]"
     ]
    },
    {
     "name": "stdout",
     "output_type": "stream",
     "text": [
      "The sequential approach took 14.872225999832153 seconds\n"
     ]
    },
    {
     "name": "stderr",
     "output_type": "stream",
     "text": [
      "\n"
     ]
    }
   ],
   "source": [
    "# Lets see the vanilla for loop approach:\n",
    "\n",
    "start_time = time.time()\n",
    "sequential_results = []\n",
    "for input_param in tqdm(input_params.iterrows()):\n",
    "    sequential_results.append(costly_simulation(input_param[1].values))\n",
    "stop_time = time.time()\n",
    "\n",
    "print(f\"The sequential approach took {stop_time - start_time} seconds\")"
   ],
   "metadata": {
    "collapsed": false,
    "pycharm": {
     "name": "#%%\n"
    }
   }
  },
  {
   "cell_type": "code",
   "execution_count": 22,
   "outputs": [
    {
     "name": "stderr",
     "output_type": "stream",
     "text": [
      "30it [00:00, 164.65it/s]\n"
     ]
    },
    {
     "name": "stdout",
     "output_type": "stream",
     "text": [
      "The parallel approach took 2.630764961242676 seconds\n"
     ]
    }
   ],
   "source": [
    "# This is how easy it would be to use joblib to solve the same problem:\n",
    "start_time = time.time()\n",
    "parallel_results = Parallel(verbose=0, n_jobs=-1)(delayed(costly_simulation)(input_param[1].values) for input_param in tqdm(input_params.iterrows()))\n",
    "stop_time = time.time()\n",
    "\n",
    "print(f\"The parallel approach took {stop_time - start_time} seconds\")"
   ],
   "metadata": {
    "collapsed": false,
    "pycharm": {
     "name": "#%%\n"
    }
   }
  },
  {
   "cell_type": "code",
   "execution_count": 23,
   "outputs": [
    {
     "data": {
      "text/plain": "True"
     },
     "execution_count": 23,
     "metadata": {},
     "output_type": "execute_result"
    }
   ],
   "source": [
    "# check if both results actually return the same:\n",
    "np.array_equal(np.array(parallel_results), np.array(sequential_results))"
   ],
   "metadata": {
    "collapsed": false,
    "pycharm": {
     "name": "#%%\n"
    }
   }
  }
 ],
 "metadata": {
  "kernelspec": {
   "display_name": "Python 3",
   "language": "python",
   "name": "python3"
  },
  "language_info": {
   "codemirror_mode": {
    "name": "ipython",
    "version": 2
   },
   "file_extension": ".py",
   "mimetype": "text/x-python",
   "name": "python",
   "nbconvert_exporter": "python",
   "pygments_lexer": "ipython2",
   "version": "2.7.6"
  }
 },
 "nbformat": 4,
 "nbformat_minor": 0
}