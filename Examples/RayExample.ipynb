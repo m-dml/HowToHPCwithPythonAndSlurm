{
 "cells": [
  {
   "cell_type": "markdown",
   "id": "ba3d25ba-7367-4c8f-aaaf-dbecd2207507",
   "metadata": {},
   "source": [
    "This example shows you how to parallelize nearly any for loop you have with ray and joblib.\n",
    "This requires some preparation, thought. Before you can run this notebook you have to set up the ray cluster, meaning you have to\n",
    "start a slurm script which will set up all the ray worker nodes that you might need. \n",
    "Therefore have a look at the `ray-setup` folder of this git repo. You only need to start the\n",
    "`SLURM-LAUNCH.sh` script with `sbatch SLURM-LAUNCH.sh`. Before you do this, make sure your credentials are correct.\n",
    "The scipt will not only launch the workers but also run the script at the same time. The script itself has to\n",
    "be a python script (no notebook, to my knowledge) and you can find it in `RayExample.py`."
   ]
  }
 ],
 "metadata": {
  "kernelspec": {
   "display_name": "Plankton",
   "language": "python",
   "name": "plankton"
  },
  "language_info": {
   "codemirror_mode": {
    "name": "ipython",
    "version": 3
   },
   "file_extension": ".py",
   "mimetype": "text/x-python",
   "name": "python",
   "nbconvert_exporter": "python",
   "pygments_lexer": "ipython3",
   "version": "3.7.10"
  }
 },
 "nbformat": 4,
 "nbformat_minor": 5
}
